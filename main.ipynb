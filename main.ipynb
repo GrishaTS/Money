{
 "cells": [
  {
   "cell_type": "code",
   "execution_count": null,
   "metadata": {},
   "outputs": [
    {
     "name": "stdout",
     "output_type": "stream",
     "text": [
      "Active code page: 1251\n",
      "Requirement already satisfied: numpy==1.23.5 in c:\\users\\bezgr\\study\\ds\\money\\.venv\\lib\\site-packages (1.23.5)\n",
      "Note: you may need to restart the kernel to use updated packages.\n"
     ]
    },
    {
     "name": "stderr",
     "output_type": "stream",
     "text": [
      "\n",
      "[notice] A new release of pip is available: 24.0 -> 25.0.1\n",
      "[notice] To update, run: python.exe -m pip install --upgrade pip\n"
     ]
    },
    {
     "name": "stdout",
     "output_type": "stream",
     "text": [
      "Active code page: 1251\n",
      "Requirement already satisfied: numba==0.57.1 in c:\\users\\bezgr\\study\\ds\\money\\.venv\\lib\\site-packages (0.57.1)\n",
      "Requirement already satisfied: llvmlite<0.41,>=0.40.0dev0 in c:\\users\\bezgr\\study\\ds\\money\\.venv\\lib\\site-packages (from numba==0.57.1) (0.40.1)\n",
      "Requirement already satisfied: numpy<1.25,>=1.21 in c:\\users\\bezgr\\study\\ds\\money\\.venv\\lib\\site-packages (from numba==0.57.1) (1.23.5)\n",
      "Note: you may need to restart the kernel to use updated packages.\n"
     ]
    },
    {
     "name": "stderr",
     "output_type": "stream",
     "text": [
      "\n",
      "[notice] A new release of pip is available: 24.0 -> 25.0.1\n",
      "[notice] To update, run: python.exe -m pip install --upgrade pip\n"
     ]
    },
    {
     "name": "stdout",
     "output_type": "stream",
     "text": [
      "Active code page: 1251\n",
      "Requirement already satisfied: matplotlib==3.6.3 in c:\\users\\bezgr\\study\\ds\\money\\.venv\\lib\\site-packages (3.6.3)\n",
      "Requirement already satisfied: contourpy>=1.0.1 in c:\\users\\bezgr\\study\\ds\\money\\.venv\\lib\\site-packages (from matplotlib==3.6.3) (1.3.1)\n",
      "Requirement already satisfied: cycler>=0.10 in c:\\users\\bezgr\\study\\ds\\money\\.venv\\lib\\site-packages (from matplotlib==3.6.3) (0.12.1)\n",
      "Requirement already satisfied: fonttools>=4.22.0 in c:\\users\\bezgr\\study\\ds\\money\\.venv\\lib\\site-packages (from matplotlib==3.6.3) (4.56.0)\n",
      "Requirement already satisfied: kiwisolver>=1.0.1 in c:\\users\\bezgr\\study\\ds\\money\\.venv\\lib\\site-packages (from matplotlib==3.6.3) (1.4.8)\n",
      "Requirement already satisfied: numpy>=1.19 in c:\\users\\bezgr\\study\\ds\\money\\.venv\\lib\\site-packages (from matplotlib==3.6.3) (1.23.5)\n",
      "Requirement already satisfied: packaging>=20.0 in c:\\users\\bezgr\\study\\ds\\money\\.venv\\lib\\site-packages (from matplotlib==3.6.3) (24.2)\n",
      "Requirement already satisfied: pillow>=6.2.0 in c:\\users\\bezgr\\study\\ds\\money\\.venv\\lib\\site-packages (from matplotlib==3.6.3) (11.1.0)\n",
      "Requirement already satisfied: pyparsing>=2.2.1 in c:\\users\\bezgr\\study\\ds\\money\\.venv\\lib\\site-packages (from matplotlib==3.6.3) (3.2.1)\n",
      "Requirement already satisfied: python-dateutil>=2.7 in c:\\users\\bezgr\\study\\ds\\money\\.venv\\lib\\site-packages (from matplotlib==3.6.3) (2.9.0.post0)\n",
      "Requirement already satisfied: six>=1.5 in c:\\users\\bezgr\\study\\ds\\money\\.venv\\lib\\site-packages (from python-dateutil>=2.7->matplotlib==3.6.3) (1.17.0)\n",
      "Note: you may need to restart the kernel to use updated packages.\n"
     ]
    },
    {
     "name": "stderr",
     "output_type": "stream",
     "text": [
      "\n",
      "[notice] A new release of pip is available: 24.0 -> 25.0.1\n",
      "[notice] To update, run: python.exe -m pip install --upgrade pip\n"
     ]
    },
    {
     "name": "stdout",
     "output_type": "stream",
     "text": [
      "Active code page: 1251\n",
      "Collecting shap==0.46.0\n",
      "  Using cached shap-0.46.0-cp311-cp311-win_amd64.whl.metadata (25 kB)\n",
      "Requirement already satisfied: numpy in c:\\users\\bezgr\\study\\ds\\money\\.venv\\lib\\site-packages (from shap==0.46.0) (1.23.5)\n",
      "Requirement already satisfied: scipy in c:\\users\\bezgr\\study\\ds\\money\\.venv\\lib\\site-packages (from shap==0.46.0) (1.15.2)\n",
      "Requirement already satisfied: scikit-learn in c:\\users\\bezgr\\study\\ds\\money\\.venv\\lib\\site-packages (from shap==0.46.0) (1.6.1)\n",
      "Collecting pandas (from shap==0.46.0)\n",
      "  Using cached pandas-2.2.3-cp311-cp311-win_amd64.whl.metadata (19 kB)\n",
      "Requirement already satisfied: tqdm>=4.27.0 in c:\\users\\bezgr\\study\\ds\\money\\.venv\\lib\\site-packages (from shap==0.46.0) (4.67.1)\n",
      "Requirement already satisfied: packaging>20.9 in c:\\users\\bezgr\\study\\ds\\money\\.venv\\lib\\site-packages (from shap==0.46.0) (24.2)\n",
      "Requirement already satisfied: slicer==0.0.8 in c:\\users\\bezgr\\study\\ds\\money\\.venv\\lib\\site-packages (from shap==0.46.0) (0.0.8)\n",
      "Requirement already satisfied: numba in c:\\users\\bezgr\\study\\ds\\money\\.venv\\lib\\site-packages (from shap==0.46.0) (0.57.1)\n",
      "Requirement already satisfied: cloudpickle in c:\\users\\bezgr\\study\\ds\\money\\.venv\\lib\\site-packages (from shap==0.46.0) (3.1.1)\n",
      "Requirement already satisfied: colorama in c:\\users\\bezgr\\study\\ds\\money\\.venv\\lib\\site-packages (from tqdm>=4.27.0->shap==0.46.0) (0.4.6)\n",
      "Requirement already satisfied: llvmlite<0.41,>=0.40.0dev0 in c:\\users\\bezgr\\study\\ds\\money\\.venv\\lib\\site-packages (from numba->shap==0.46.0) (0.40.1)\n",
      "Requirement already satisfied: python-dateutil>=2.8.2 in c:\\users\\bezgr\\study\\ds\\money\\.venv\\lib\\site-packages (from pandas->shap==0.46.0) (2.9.0.post0)\n",
      "Requirement already satisfied: pytz>=2020.1 in c:\\users\\bezgr\\study\\ds\\money\\.venv\\lib\\site-packages (from pandas->shap==0.46.0) (2025.1)\n",
      "Requirement already satisfied: tzdata>=2022.7 in c:\\users\\bezgr\\study\\ds\\money\\.venv\\lib\\site-packages (from pandas->shap==0.46.0) (2025.1)\n",
      "Requirement already satisfied: joblib>=1.2.0 in c:\\users\\bezgr\\study\\ds\\money\\.venv\\lib\\site-packages (from scikit-learn->shap==0.46.0) (1.4.2)\n",
      "Requirement already satisfied: threadpoolctl>=3.1.0 in c:\\users\\bezgr\\study\\ds\\money\\.venv\\lib\\site-packages (from scikit-learn->shap==0.46.0) (3.5.0)\n",
      "Requirement already satisfied: six>=1.5 in c:\\users\\bezgr\\study\\ds\\money\\.venv\\lib\\site-packages (from python-dateutil>=2.8.2->pandas->shap==0.46.0) (1.17.0)\n",
      "Using cached shap-0.46.0-cp311-cp311-win_amd64.whl (456 kB)\n",
      "Using cached pandas-2.2.3-cp311-cp311-win_amd64.whl (11.6 MB)\n",
      "Installing collected packages: pandas, shap\n",
      "Successfully installed pandas-2.2.3 shap-0.46.0\n",
      "Note: you may need to restart the kernel to use updated packages.\n"
     ]
    },
    {
     "name": "stderr",
     "output_type": "stream",
     "text": [
      "\n",
      "[notice] A new release of pip is available: 24.0 -> 25.0.1\n",
      "[notice] To update, run: python.exe -m pip install --upgrade pip\n"
     ]
    },
    {
     "name": "stdout",
     "output_type": "stream",
     "text": [
      "Active code page: 1251\n",
      "Collecting pandas==2.0.3\n",
      "  Using cached pandas-2.0.3-cp311-cp311-win_amd64.whl.metadata (18 kB)\n",
      "Requirement already satisfied: python-dateutil>=2.8.2 in c:\\users\\bezgr\\study\\ds\\money\\.venv\\lib\\site-packages (from pandas==2.0.3) (2.9.0.post0)\n",
      "Requirement already satisfied: pytz>=2020.1 in c:\\users\\bezgr\\study\\ds\\money\\.venv\\lib\\site-packages (from pandas==2.0.3) (2025.1)\n",
      "Requirement already satisfied: tzdata>=2022.1 in c:\\users\\bezgr\\study\\ds\\money\\.venv\\lib\\site-packages (from pandas==2.0.3) (2025.1)\n",
      "Requirement already satisfied: numpy>=1.21.0 in c:\\users\\bezgr\\study\\ds\\money\\.venv\\lib\\site-packages (from pandas==2.0.3) (1.23.5)\n",
      "Requirement already satisfied: six>=1.5 in c:\\users\\bezgr\\study\\ds\\money\\.venv\\lib\\site-packages (from python-dateutil>=2.8.2->pandas==2.0.3) (1.17.0)\n",
      "Using cached pandas-2.0.3-cp311-cp311-win_amd64.whl (10.6 MB)\n",
      "Installing collected packages: pandas\n",
      "  Attempting uninstall: pandas\n",
      "    Found existing installation: pandas 2.2.3\n",
      "    Uninstalling pandas-2.2.3:\n",
      "      Successfully uninstalled pandas-2.2.3\n",
      "Successfully installed pandas-2.0.3\n",
      "Note: you may need to restart the kernel to use updated packages.\n"
     ]
    },
    {
     "name": "stderr",
     "output_type": "stream",
     "text": [
      "\n",
      "[notice] A new release of pip is available: 24.0 -> 25.0.1\n",
      "[notice] To update, run: python.exe -m pip install --upgrade pip\n"
     ]
    }
   ],
   "source": [
    "%%capture\n",
    "%pip install numpy==1.23.5\n",
    "%pip install numba==0.57.1\n",
    "%pip install matplotlib==3.6.3\n",
    "%pip install shap==0.46.0\n",
    "%pip install pandas==2.0.3\n",
    "%pip install plotly==5.15.0\n",
    "%pip install phik==0.12.3\n",
    "%pip install scikit-learn==1.2.2\n",
    "%pip install scipy==1.9.3\n",
    "%pip install optuna==4.1.0\n",
    "%pip install category-encoders==2.6.1\n",
    "%pip install missingno==0.5.2\n",
    "%pip install nbformat>=4.2.0\n",
    "%pip install lightgbm==4.5.0\n",
    "%pip install catboost==1.2.7\n",
    "%pip install xgboost==2.1.4\n",
    "%pip install Jinja2==3.1.2\n",
    "%pip install statsmodels==0.14.4\n",
    "%pip install requests==2.32.3"
   ]
  },
  {
   "cell_type": "code",
   "execution_count": null,
   "metadata": {},
   "outputs": [
    {
     "ename": "ModuleNotFoundError",
     "evalue": "No module named 'missingno'",
     "output_type": "error",
     "traceback": [
      "\u001b[1;31m---------------------------------------------------------------------------\u001b[0m",
      "\u001b[1;31mModuleNotFoundError\u001b[0m                       Traceback (most recent call last)",
      "Cell \u001b[1;32mIn[1], line 8\u001b[0m\n\u001b[0;32m      5\u001b[0m \u001b[38;5;28;01mimport\u001b[39;00m\u001b[38;5;250m \u001b[39m\u001b[38;5;21;01mre\u001b[39;00m\n\u001b[0;32m      6\u001b[0m \u001b[38;5;28;01mfrom\u001b[39;00m\u001b[38;5;250m \u001b[39m\u001b[38;5;21;01mtyping\u001b[39;00m\u001b[38;5;250m \u001b[39m\u001b[38;5;28;01mimport\u001b[39;00m Literal\n\u001b[1;32m----> 8\u001b[0m \u001b[38;5;28;01mimport\u001b[39;00m\u001b[38;5;250m \u001b[39m\u001b[38;5;21;01mmissingno\u001b[39;00m\u001b[38;5;250m \u001b[39m\u001b[38;5;28;01mas\u001b[39;00m\u001b[38;5;250m \u001b[39m\u001b[38;5;21;01mmsno\u001b[39;00m\n\u001b[0;32m      9\u001b[0m \u001b[38;5;28;01mimport\u001b[39;00m\u001b[38;5;250m \u001b[39m\u001b[38;5;21;01mnumpy\u001b[39;00m\u001b[38;5;250m \u001b[39m\u001b[38;5;28;01mas\u001b[39;00m\u001b[38;5;250m \u001b[39m\u001b[38;5;21;01mnp\u001b[39;00m\n\u001b[0;32m     10\u001b[0m \u001b[38;5;28;01mimport\u001b[39;00m\u001b[38;5;250m \u001b[39m\u001b[38;5;21;01moptuna\u001b[39;00m\n",
      "\u001b[1;31mModuleNotFoundError\u001b[0m: No module named 'missingno'"
     ]
    }
   ],
   "source": [
    "import time\n",
    "from copy import deepcopy\n",
    "from itertools import cycle\n",
    "from pprint import pprint\n",
    "import re\n",
    "from typing import Literal\n",
    "\n",
    "import missingno as msno\n",
    "import numpy as np\n",
    "import optuna\n",
    "import pandas as pd\n",
    "import phik\n",
    "import plotly\n",
    "from category_encoders import (\n",
    "    BinaryEncoder,\n",
    "    CatBoostEncoder,\n",
    "    LeaveOneOutEncoder,\n",
    "    MEstimateEncoder,\n",
    "    TargetEncoder\n",
    ")\n",
    "from catboost import CatBoostRegressor\n",
    "from lightgbm import LGBMRegressor\n",
    "from optuna.visualization import plot_param_importances\n",
    "from plotly import express as px, graph_objects as go\n",
    "from plotly.subplots import make_subplots\n",
    "import requests\n",
    "import shap\n",
    "from sklearn.base import clone\n",
    "from sklearn.compose import ColumnTransformer\n",
    "from sklearn.dummy import DummyRegressor\n",
    "from sklearn.ensemble import RandomForestRegressor\n",
    "from sklearn.experimental import enable_iterative_imputer\n",
    "from sklearn.feature_selection import (\n",
    "    RFE,\n",
    "    SelectKBest,\n",
    "    mutual_info_regression\n",
    ")\n",
    "from sklearn.impute import IterativeImputer, KNNImputer, SimpleImputer\n",
    "from sklearn.linear_model import LinearRegression\n",
    "from sklearn.metrics import mean_squared_error\n",
    "from sklearn.model_selection import KFold, cross_val_score, train_test_split\n",
    "from sklearn.pipeline import Pipeline\n",
    "from sklearn.preprocessing import (\n",
    "    MinMaxScaler,\n",
    "    OneHotEncoder,\n",
    "    OrdinalEncoder,\n",
    "    RobustScaler,\n",
    "    StandardScaler\n",
    ")\n",
    "from sklearn.tree import DecisionTreeRegressor\n",
    "from statsmodels.stats.outliers_influence import variance_inflation_factor\n",
    "from statsmodels.tools.tools import add_constant\n",
    "from xgboost import XGBRegressor"
   ]
  },
  {
   "cell_type": "code",
   "execution_count": null,
   "metadata": {},
   "outputs": [],
   "source": [
    "pd.set_option('display.max_columns', None)\n",
    "optuna.logging.set_verbosity(optuna.logging.WARNING)\n",
    "plotly.offline.init_notebook_mode()\n",
    "\n",
    "RANDOM_STATE = 42\n",
    "optuna_sampler = optuna.samplers.TPESampler(seed=RANDOM_STATE)\n",
    "state = np.random.RandomState(RANDOM_STATE)\n",
    "cv = KFold(n_splits=5, shuffle=True, random_state=RANDOM_STATE)\n",
    "color_palette = cycle(px.colors.qualitative.Plotly)\n",
    "optuna_storage = 'sqlite:///optuna.db'"
   ]
  },
  {
   "cell_type": "markdown",
   "metadata": {},
   "source": [
    "_____\n",
    "_____\n",
    "## Загрузка данных, общая информация и первичная обработка"
   ]
  },
  {
   "cell_type": "code",
   "execution_count": null,
   "metadata": {},
   "outputs": [],
   "source": [
    "train = pd.read_csv('train.csv')\n",
    "train.head()"
   ]
  },
  {
   "cell_type": "markdown",
   "metadata": {},
   "source": []
  }
 ],
 "metadata": {
  "kernelspec": {
   "display_name": ".venv",
   "language": "python",
   "name": "python3"
  },
  "language_info": {
   "codemirror_mode": {
    "name": "ipython",
    "version": 3
   },
   "file_extension": ".py",
   "mimetype": "text/x-python",
   "name": "python",
   "nbconvert_exporter": "python",
   "pygments_lexer": "ipython3",
   "version": "3.11.9"
  }
 },
 "nbformat": 4,
 "nbformat_minor": 2
}
